{
 "cells": [
  {
   "cell_type": "markdown",
   "metadata": {},
   "source": [
    "# Initial preprocessing"
   ]
  },
  {
   "cell_type": "markdown",
   "metadata": {
    "toc": true
   },
   "source": [
    "<h1>Table of Contents<span class=\"tocSkip\"></span></h1>\n",
    "<div class=\"toc\"><ul class=\"toc-item\"><li><span><a href=\"#Initial-preprocessing-steps-for-Non-Western-cities\" data-toc-modified-id=\"Initial-preprocessing-steps-for-Non-Western-cities-1\"><span class=\"toc-item-num\">1&nbsp;&nbsp;</span>Initial preprocessing steps for Non-Western cities</a></span><ul class=\"toc-item\"><li><span><a href=\"#Load-reviews-for-each-city\" data-toc-modified-id=\"Load-reviews-for-each-city-1.1\"><span class=\"toc-item-num\">1.1&nbsp;&nbsp;</span>Load reviews for each city</a></span></li><li><span><a href=\"#Count-number-of-reviews-in-each-city\" data-toc-modified-id=\"Count-number-of-reviews-in-each-city-1.2\"><span class=\"toc-item-num\">1.2&nbsp;&nbsp;</span>Count number of reviews in each city</a></span></li><li><span><a href=\"#Count-total-number-of-reviews-for-all-Non-Western-cities\" data-toc-modified-id=\"Count-total-number-of-reviews-for-all-Non-Western-cities-1.3\"><span class=\"toc-item-num\">1.3&nbsp;&nbsp;</span>Count total number of reviews for all Non-Western cities</a></span></li><li><span><a href=\"#Check-for-duplicates\" data-toc-modified-id=\"Check-for-duplicates-1.4\"><span class=\"toc-item-num\">1.4&nbsp;&nbsp;</span>Check for duplicates</a></span></li><li><span><a href=\"#Load-listings-for-each-city\" data-toc-modified-id=\"Load-listings-for-each-city-1.5\"><span class=\"toc-item-num\">1.5&nbsp;&nbsp;</span>Load listings for each city</a></span></li><li><span><a href=\"#Count-number-of-listings-in-each-city\" data-toc-modified-id=\"Count-number-of-listings-in-each-city-1.6\"><span class=\"toc-item-num\">1.6&nbsp;&nbsp;</span>Count number of listings in each city</a></span></li><li><span><a href=\"#Count-total-number-of-listings-for-all-Non-Western-cities\" data-toc-modified-id=\"Count-total-number-of-listings-for-all-Non-Western-cities-1.7\"><span class=\"toc-item-num\">1.7&nbsp;&nbsp;</span>Count total number of listings for all Non-Western cities</a></span></li><li><span><a href=\"#Check-for-duplicates\" data-toc-modified-id=\"Check-for-duplicates-1.8\"><span class=\"toc-item-num\">1.8&nbsp;&nbsp;</span>Check for duplicates</a></span></li><li><span><a href=\"#Filter-required-columns-in-listings\" data-toc-modified-id=\"Filter-required-columns-in-listings-1.9\"><span class=\"toc-item-num\">1.9&nbsp;&nbsp;</span>Filter required columns in listings</a></span></li><li><span><a href=\"#Unify-city-names-in-column-'city'\" data-toc-modified-id=\"Unify-city-names-in-column-'city'-1.10\"><span class=\"toc-item-num\">1.10&nbsp;&nbsp;</span>Unify city names in column 'city'</a></span></li><li><span><a href=\"#Concatenate-listings-from-all-Non-Western-cities-to-one-data-frame\" data-toc-modified-id=\"Concatenate-listings-from-all-Non-Western-cities-to-one-data-frame-1.11\"><span class=\"toc-item-num\">1.11&nbsp;&nbsp;</span>Concatenate listings from all Non-Western cities to one data frame</a></span></li><li><span><a href=\"#Save-all-listings-data-frame-for-adoption-analysis\" data-toc-modified-id=\"Save-all-listings-data-frame-for-adoption-analysis-1.12\"><span class=\"toc-item-num\">1.12&nbsp;&nbsp;</span>Save all listings data frame for adoption analysis</a></span></li><li><span><a href=\"#Rename--'listing_id'-and-'id'-columns-and-remove-unrequired-columns-in-reviews\" data-toc-modified-id=\"Rename--'listing_id'-and-'id'-columns-and-remove-unrequired-columns-in-reviews-1.13\"><span class=\"toc-item-num\">1.13&nbsp;&nbsp;</span>Rename  'listing_id' and 'id' columns and remove unrequired columns in reviews</a></span></li><li><span><a href=\"#Merge-reviews-and-listings-data-frames-for-each-city\" data-toc-modified-id=\"Merge-reviews-and-listings-data-frames-for-each-city-1.14\"><span class=\"toc-item-num\">1.14&nbsp;&nbsp;</span>Merge reviews and listings data frames for each city</a></span></li><li><span><a href=\"#Concatenate-all-Non-Western-cities-to-one-data-frame\" data-toc-modified-id=\"Concatenate-all-Non-Western-cities-to-one-data-frame-1.15\"><span class=\"toc-item-num\">1.15&nbsp;&nbsp;</span>Concatenate all Non-Western cities to one data frame</a></span></li><li><span><a href=\"#Check-missing-observations\" data-toc-modified-id=\"Check-missing-observations-1.16\"><span class=\"toc-item-num\">1.16&nbsp;&nbsp;</span>Check missing observations</a></span></li><li><span><a href=\"#Check-number-of-listings-which-have-at-least-one-review\" data-toc-modified-id=\"Check-number-of-listings-which-have-at-least-one-review-1.17\"><span class=\"toc-item-num\">1.17&nbsp;&nbsp;</span>Check number of listings which have at least one review</a></span></li><li><span><a href=\"#Remove-missing-observations-in-columns-'comments'-and-'review_scores_rating'\" data-toc-modified-id=\"Remove-missing-observations-in-columns-'comments'-and-'review_scores_rating'-1.18\"><span class=\"toc-item-num\">1.18&nbsp;&nbsp;</span>Remove missing observations in columns 'comments' and 'review_scores_rating'</a></span></li><li><span><a href=\"#Remove-automated-reviews\" data-toc-modified-id=\"Remove-automated-reviews-1.19\"><span class=\"toc-item-num\">1.19&nbsp;&nbsp;</span>Remove automated reviews</a></span></li></ul></li><li><span><a href=\"#The-same-as-above-initial-preprocessing-steps-for-Western-cities\" data-toc-modified-id=\"The-same-as-above-initial-preprocessing-steps-for-Western-cities-2\"><span class=\"toc-item-num\">2&nbsp;&nbsp;</span>The same as above initial preprocessing steps for Western cities</a></span></li><li><span><a href=\"#Save-files-to-pickle\" data-toc-modified-id=\"Save-files-to-pickle-3\"><span class=\"toc-item-num\">3&nbsp;&nbsp;</span>Save files to pickle</a></span></li></ul></div>"
   ]
  },
  {
   "cell_type": "code",
   "execution_count": 1,
   "metadata": {},
   "outputs": [],
   "source": [
    "import numpy as np\n",
    "import pandas as pd\n",
    "\n",
    "import warnings\n",
    "warnings.filterwarnings('ignore')"
   ]
  },
  {
   "cell_type": "markdown",
   "metadata": {},
   "source": [
    "## Initial preprocessing steps for Non-Western cities "
   ]
  },
  {
   "cell_type": "markdown",
   "metadata": {},
   "source": [
    "Cities to study: Beijing, Belize, Buenos Aires, Hong Kong, Mexico City, Rio de Janeiro, Santiago, Taipei, Tokyo"
   ]
  },
  {
   "cell_type": "markdown",
   "metadata": {},
   "source": [
    "### Load reviews for each city"
   ]
  },
  {
   "cell_type": "code",
   "execution_count": 2,
   "metadata": {},
   "outputs": [],
   "source": [
    "beijing_reviews = pd.read_csv('airbnb-reviews-listings/beijing.csv')\n",
    "belize_reviews = pd.read_csv('airbnb-reviews-listings/belize.csv')\n",
    "buenos_aires_reviews = pd.read_csv('airbnb-reviews-listings/buenos_aires.csv')\n",
    "hong_kong_reviews = pd.read_csv('airbnb-reviews-listings/hong_kong.csv')\n",
    "mexico_city_reviews = pd.read_csv('airbnb-reviews-listings/mexico_city.csv')\n",
    "rio_de_janeiro_reviews = pd.read_csv('airbnb-reviews-listings/rio_de_janeiro.csv')\n",
    "santiago_reviews = pd.read_csv('airbnb-reviews-listings/santiago.csv')\n",
    "taipei_reviews = pd.read_csv('airbnb-reviews-listings/taipei.csv')\n",
    "tokyo_reviews = pd.read_csv('airbnb-reviews-listings/tokyo.csv')"
   ]
  },
  {
   "cell_type": "markdown",
   "metadata": {},
   "source": [
    "### Count number of reviews in each city"
   ]
  },
  {
   "cell_type": "code",
   "execution_count": 3,
   "metadata": {},
   "outputs": [
    {
     "name": "stdout",
     "output_type": "stream",
     "text": [
      "Total number of reviews per city:\n",
      "-------------------\n",
      "Beijing : 258218 reviews and 6 features.\n",
      "Belize : 45039 reviews and 6 features.\n",
      "Buenos Aires : 384976 reviews and 6 features.\n",
      "Hong Kong : 203875 reviews and 6 features.\n",
      "Mexico City : 527451 reviews and 6 features.\n",
      "Rio de Janeiro : 348895 reviews and 6 features.\n",
      "Santiago : 211162 reviews and 6 features.\n",
      "Taipei : 283690 reviews and 6 features.\n",
      "Tokyo : 398181 reviews and 6 features.\n"
     ]
    }
   ],
   "source": [
    "print('Total number of reviews per city:')\n",
    "print('-------------------')\n",
    "print('Beijing : {} reviews and {} features.'.format(*beijing_reviews.shape))\n",
    "print('Belize : {} reviews and {} features.'.format(*belize_reviews.shape))\n",
    "print('Buenos Aires : {} reviews and {} features.'.format(*buenos_aires_reviews.shape))\n",
    "print('Hong Kong : {} reviews and {} features.'.format(*hong_kong_reviews.shape))\n",
    "print('Mexico City : {} reviews and {} features.'.format(*mexico_city_reviews.shape))\n",
    "print('Rio de Janeiro : {} reviews and {} features.'.format(*rio_de_janeiro_reviews.shape))\n",
    "print('Santiago : {} reviews and {} features.'.format(*santiago_reviews.shape))\n",
    "print('Taipei : {} reviews and {} features.'.format(*taipei_reviews.shape))\n",
    "print('Tokyo : {} reviews and {} features.'.format(*tokyo_reviews.shape))"
   ]
  },
  {
   "cell_type": "markdown",
   "metadata": {},
   "source": [
    "### Count total number of reviews for all Non-Western cities"
   ]
  },
  {
   "cell_type": "code",
   "execution_count": 4,
   "metadata": {},
   "outputs": [
    {
     "name": "stdout",
     "output_type": "stream",
     "text": [
      "Total number of reviews in Non-Western cities: 2661487\n"
     ]
    }
   ],
   "source": [
    "total_number_reviews_non_western = beijing_reviews.shape[0] + belize_reviews.shape[0] +\\\n",
    "                                   buenos_aires_reviews.shape[0] + hong_kong_reviews.shape[0] +\\\n",
    "                                   mexico_city_reviews.shape[0] + rio_de_janeiro_reviews.shape[0] +\\\n",
    "                                   santiago_reviews.shape[0] + taipei_reviews.shape[0] + tokyo_reviews.shape[0]\n",
    "            \n",
    "print('Total number of reviews in Non-Western cities: {}'.format(total_number_reviews_non_western))"
   ]
  },
  {
   "cell_type": "markdown",
   "metadata": {},
   "source": [
    "### Check for duplicates"
   ]
  },
  {
   "cell_type": "code",
   "execution_count": 5,
   "metadata": {},
   "outputs": [
    {
     "name": "stdout",
     "output_type": "stream",
     "text": [
      "Beijing contains 0 duplicates.\n",
      "Belize contains 0 duplicates.\n",
      "Buenos Aires contains 0 duplicates.\n",
      "Hong Kong contains 0 duplicates.\n",
      "Mexico City contains 0 duplicates.\n",
      "Rio de Janeiro contains 0 duplicates.\n",
      "Santiago contains 0 duplicates.\n",
      "Taipei contains 0 duplicates.\n",
      "Tokyo contains 0 duplicates.\n"
     ]
    }
   ],
   "source": [
    "print('Beijing contains {} duplicates.'.format(beijing_reviews.duplicated().sum()))\n",
    "print('Belize contains {} duplicates.'.format(belize_reviews.duplicated().sum()))\n",
    "print('Buenos Aires contains {} duplicates.'.format(buenos_aires_reviews.duplicated().sum()))\n",
    "print('Hong Kong contains {} duplicates.'.format(hong_kong_reviews.duplicated().sum()))\n",
    "print('Mexico City contains {} duplicates.'.format(mexico_city_reviews.duplicated().sum()))\n",
    "print('Rio de Janeiro contains {} duplicates.'.format(rio_de_janeiro_reviews.duplicated().sum()))\n",
    "print('Santiago contains {} duplicates.'.format(santiago_reviews.duplicated().sum()))\n",
    "print('Taipei contains {} duplicates.'.format(taipei_reviews.duplicated().sum()))\n",
    "print('Tokyo contains {} duplicates.'.format(tokyo_reviews.duplicated().sum()))"
   ]
  },
  {
   "cell_type": "code",
   "execution_count": 6,
   "metadata": {},
   "outputs": [
    {
     "data": {
      "text/html": [
       "<div>\n",
       "<style scoped>\n",
       "    .dataframe tbody tr th:only-of-type {\n",
       "        vertical-align: middle;\n",
       "    }\n",
       "\n",
       "    .dataframe tbody tr th {\n",
       "        vertical-align: top;\n",
       "    }\n",
       "\n",
       "    .dataframe thead th {\n",
       "        text-align: right;\n",
       "    }\n",
       "</style>\n",
       "<table border=\"1\" class=\"dataframe\">\n",
       "  <thead>\n",
       "    <tr style=\"text-align: right;\">\n",
       "      <th></th>\n",
       "      <th>listing_id</th>\n",
       "      <th>id</th>\n",
       "      <th>date</th>\n",
       "      <th>reviewer_id</th>\n",
       "      <th>reviewer_name</th>\n",
       "      <th>comments</th>\n",
       "    </tr>\n",
       "  </thead>\n",
       "  <tbody>\n",
       "    <tr>\n",
       "      <th>0</th>\n",
       "      <td>44054</td>\n",
       "      <td>84748</td>\n",
       "      <td>2010-08-25</td>\n",
       "      <td>207019</td>\n",
       "      <td>Jarrod</td>\n",
       "      <td>Sev was very helpful.  Sev showed us where to ...</td>\n",
       "    </tr>\n",
       "    <tr>\n",
       "      <th>1</th>\n",
       "      <td>44054</td>\n",
       "      <td>118384</td>\n",
       "      <td>2010-10-13</td>\n",
       "      <td>218723</td>\n",
       "      <td>Kimberly</td>\n",
       "      <td>We arrived in Beijing very early in the mornin...</td>\n",
       "    </tr>\n",
       "    <tr>\n",
       "      <th>2</th>\n",
       "      <td>44054</td>\n",
       "      <td>436978</td>\n",
       "      <td>2011-08-11</td>\n",
       "      <td>609177</td>\n",
       "      <td>Emma</td>\n",
       "      <td>It is a really massive apartment and really co...</td>\n",
       "    </tr>\n",
       "    <tr>\n",
       "      <th>3</th>\n",
       "      <td>44054</td>\n",
       "      <td>1118657</td>\n",
       "      <td>2012-04-12</td>\n",
       "      <td>1787536</td>\n",
       "      <td>Andreyna</td>\n",
       "      <td>Sev was incredibly helpful, showed us around t...</td>\n",
       "    </tr>\n",
       "    <tr>\n",
       "      <th>4</th>\n",
       "      <td>44054</td>\n",
       "      <td>2140650</td>\n",
       "      <td>2012-08-30</td>\n",
       "      <td>1179565</td>\n",
       "      <td>Frances</td>\n",
       "      <td>The appartment was ideal for our party of 6 ad...</td>\n",
       "    </tr>\n",
       "  </tbody>\n",
       "</table>\n",
       "</div>"
      ],
      "text/plain": [
       "   listing_id       id        date  reviewer_id reviewer_name  \\\n",
       "0       44054    84748  2010-08-25       207019        Jarrod   \n",
       "1       44054   118384  2010-10-13       218723      Kimberly   \n",
       "2       44054   436978  2011-08-11       609177          Emma   \n",
       "3       44054  1118657  2012-04-12      1787536      Andreyna   \n",
       "4       44054  2140650  2012-08-30      1179565       Frances   \n",
       "\n",
       "                                            comments  \n",
       "0  Sev was very helpful.  Sev showed us where to ...  \n",
       "1  We arrived in Beijing very early in the mornin...  \n",
       "2  It is a really massive apartment and really co...  \n",
       "3  Sev was incredibly helpful, showed us around t...  \n",
       "4  The appartment was ideal for our party of 6 ad...  "
      ]
     },
     "execution_count": 6,
     "metadata": {},
     "output_type": "execute_result"
    }
   ],
   "source": [
    "beijing_reviews.head()"
   ]
  },
  {
   "cell_type": "markdown",
   "metadata": {},
   "source": [
    "### Load listings for each city"
   ]
  },
  {
   "cell_type": "code",
   "execution_count": 7,
   "metadata": {},
   "outputs": [],
   "source": [
    "beijing_listings = pd.read_csv('airbnb-reviews-listings/beijing_listings.csv')\n",
    "belize_listings = pd.read_csv('airbnb-reviews-listings/belize_listings.csv')\n",
    "buenos_aires_listings = pd.read_csv('airbnb-reviews-listings/buenos_aires_listings.csv')\n",
    "hong_kong_listings = pd.read_csv('airbnb-reviews-listings/hong_kong_listings.csv')\n",
    "mexico_city_listings = pd.read_csv('airbnb-reviews-listings/mexico_city_listings.csv')\n",
    "rio_de_janeiro_listings = pd.read_csv('airbnb-reviews-listings/rio_de_janeiro_listings.csv')\n",
    "santiago_listings = pd.read_csv('airbnb-reviews-listings/santiago_listings.csv')\n",
    "taipei_listings = pd.read_csv('airbnb-reviews-listings/taipei_listings.csv')\n",
    "tokyo_listings = pd.read_csv('airbnb-reviews-listings/tokyo_listings.csv')"
   ]
  },
  {
   "cell_type": "markdown",
   "metadata": {},
   "source": [
    "### Count number of listings in each city"
   ]
  },
  {
   "cell_type": "code",
   "execution_count": 8,
   "metadata": {},
   "outputs": [
    {
     "name": "stdout",
     "output_type": "stream",
     "text": [
      "Total number of listings per city:\n",
      "-------------------\n",
      "Beijing : 36864 listings and 106 features.\n",
      "Belize : 2949 listings and 106 features.\n",
      "Buenos Aires : 23828 listings and 106 features.\n",
      "Hong Kong : 11449 listings and 106 features.\n",
      "Mexico City : 21662 listings and 106 features.\n",
      "Rio de Janeiro : 35793 listings and 106 features.\n",
      "Santiago : 16118 listings and 106 features.\n",
      "Taipei : 8409 listings and 106 features.\n",
      "Tokyo : 15009 listings and 106 features.\n"
     ]
    }
   ],
   "source": [
    "print('Total number of listings per city:')\n",
    "print('-------------------')\n",
    "print('Beijing : {} listings and {} features.'.format(*beijing_listings.shape))\n",
    "print('Belize : {} listings and {} features.'.format(*belize_listings.shape))\n",
    "print('Buenos Aires : {} listings and {} features.'.format(*buenos_aires_listings.shape))\n",
    "print('Hong Kong : {} listings and {} features.'.format(*hong_kong_listings.shape))\n",
    "print('Mexico City : {} listings and {} features.'.format(*mexico_city_listings.shape))\n",
    "print('Rio de Janeiro : {} listings and {} features.'.format(*rio_de_janeiro_listings.shape))\n",
    "print('Santiago : {} listings and {} features.'.format(*santiago_listings.shape))\n",
    "print('Taipei : {} listings and {} features.'.format(*taipei_listings.shape))\n",
    "print('Tokyo : {} listings and {} features.'.format(*tokyo_listings.shape))"
   ]
  },
  {
   "cell_type": "markdown",
   "metadata": {},
   "source": [
    "### Count total number of listings for all Non-Western cities"
   ]
  },
  {
   "cell_type": "code",
   "execution_count": 9,
   "metadata": {},
   "outputs": [
    {
     "name": "stdout",
     "output_type": "stream",
     "text": [
      "Total number of listings in Non-Western cities: 172081\n"
     ]
    }
   ],
   "source": [
    "total_number_listings_non_western = beijing_listings.shape[0] + belize_listings.shape[0] +\\\n",
    "                                    buenos_aires_listings.shape[0] + hong_kong_listings.shape[0] +\\\n",
    "                                    mexico_city_listings.shape[0] + rio_de_janeiro_listings.shape[0] +\\\n",
    "                                    santiago_listings.shape[0] + taipei_listings.shape[0] + tokyo_listings.shape[0]\n",
    "\n",
    "print('Total number of listings in Non-Western cities: {}'.format(total_number_listings_non_western))"
   ]
  },
  {
   "cell_type": "markdown",
   "metadata": {},
   "source": [
    "### Check for duplicates"
   ]
  },
  {
   "cell_type": "code",
   "execution_count": 10,
   "metadata": {},
   "outputs": [
    {
     "name": "stdout",
     "output_type": "stream",
     "text": [
      "Beijing contains 0 duplicates.\n",
      "Belize contains 0 duplicates.\n",
      "Buenos Aires contains 0 duplicates.\n",
      "Hong Kong contains 0 duplicates.\n",
      "Mexico City contains 0 duplicates.\n",
      "Rio de Janeiro contains 0 duplicates.\n",
      "Santiago contains 0 duplicates.\n",
      "Taipei contains 0 duplicates.\n",
      "Tokyo contains 0 duplicates.\n"
     ]
    }
   ],
   "source": [
    "print('Beijing contains {} duplicates.'.format(beijing_listings.duplicated().sum()))\n",
    "print('Belize contains {} duplicates.'.format(belize_listings.duplicated().sum()))\n",
    "print('Buenos Aires contains {} duplicates.'.format(buenos_aires_listings.duplicated().sum()))\n",
    "print('Hong Kong contains {} duplicates.'.format(hong_kong_listings.duplicated().sum()))\n",
    "print('Mexico City contains {} duplicates.'.format(mexico_city_listings.duplicated().sum()))\n",
    "print('Rio de Janeiro contains {} duplicates.'.format(rio_de_janeiro_listings.duplicated().sum()))\n",
    "print('Santiago contains {} duplicates.'.format(santiago_listings.duplicated().sum()))\n",
    "print('Taipei contains {} duplicates.'.format(taipei_listings.duplicated().sum()))\n",
    "print('Tokyo contains {} duplicates.'.format(tokyo_listings.duplicated().sum()))"
   ]
  },
  {
   "cell_type": "code",
   "execution_count": 11,
   "metadata": {},
   "outputs": [
    {
     "data": {
      "text/html": [
       "<div>\n",
       "<style scoped>\n",
       "    .dataframe tbody tr th:only-of-type {\n",
       "        vertical-align: middle;\n",
       "    }\n",
       "\n",
       "    .dataframe tbody tr th {\n",
       "        vertical-align: top;\n",
       "    }\n",
       "\n",
       "    .dataframe thead th {\n",
       "        text-align: right;\n",
       "    }\n",
       "</style>\n",
       "<table border=\"1\" class=\"dataframe\">\n",
       "  <thead>\n",
       "    <tr style=\"text-align: right;\">\n",
       "      <th></th>\n",
       "      <th>id</th>\n",
       "      <th>listing_url</th>\n",
       "      <th>scrape_id</th>\n",
       "      <th>last_scraped</th>\n",
       "      <th>name</th>\n",
       "      <th>summary</th>\n",
       "      <th>space</th>\n",
       "      <th>description</th>\n",
       "      <th>experiences_offered</th>\n",
       "      <th>neighborhood_overview</th>\n",
       "      <th>...</th>\n",
       "      <th>instant_bookable</th>\n",
       "      <th>is_business_travel_ready</th>\n",
       "      <th>cancellation_policy</th>\n",
       "      <th>require_guest_profile_picture</th>\n",
       "      <th>require_guest_phone_verification</th>\n",
       "      <th>calculated_host_listings_count</th>\n",
       "      <th>calculated_host_listings_count_entire_homes</th>\n",
       "      <th>calculated_host_listings_count_private_rooms</th>\n",
       "      <th>calculated_host_listings_count_shared_rooms</th>\n",
       "      <th>reviews_per_month</th>\n",
       "    </tr>\n",
       "  </thead>\n",
       "  <tbody>\n",
       "    <tr>\n",
       "      <th>0</th>\n",
       "      <td>44054</td>\n",
       "      <td>https://www.airbnb.com/rooms/44054</td>\n",
       "      <td>20200527044855</td>\n",
       "      <td>2020-05-28</td>\n",
       "      <td>Modern and Comfortable Living in CBD</td>\n",
       "      <td>East Apartments offers comfortable living away...</td>\n",
       "      <td>East Apartments is a western managed serviced ...</td>\n",
       "      <td>East Apartments offers comfortable living away...</td>\n",
       "      <td>none</td>\n",
       "      <td>The neighborhood is a private compound.  Just ...</td>\n",
       "      <td>...</td>\n",
       "      <td>f</td>\n",
       "      <td>f</td>\n",
       "      <td>strict_14_with_grace_period</td>\n",
       "      <td>f</td>\n",
       "      <td>f</td>\n",
       "      <td>5</td>\n",
       "      <td>5</td>\n",
       "      <td>0</td>\n",
       "      <td>0</td>\n",
       "      <td>0.83</td>\n",
       "    </tr>\n",
       "    <tr>\n",
       "      <th>1</th>\n",
       "      <td>100213</td>\n",
       "      <td>https://www.airbnb.com/rooms/100213</td>\n",
       "      <td>20200527044855</td>\n",
       "      <td>2020-05-27</td>\n",
       "      <td>The Great Wall Box Deluxe Suite A团园长城小院东院套房</td>\n",
       "      <td>This is your guide to live by the Great Wall! ...</td>\n",
       "      <td>This is your guide to live by the Great Wall! ...</td>\n",
       "      <td>This is your guide to live by the Great Wall! ...</td>\n",
       "      <td>none</td>\n",
       "      <td>5 mins walk to Panglongshan Great Wall, 25 min...</td>\n",
       "      <td>...</td>\n",
       "      <td>t</td>\n",
       "      <td>f</td>\n",
       "      <td>strict_14_with_grace_period</td>\n",
       "      <td>f</td>\n",
       "      <td>f</td>\n",
       "      <td>4</td>\n",
       "      <td>0</td>\n",
       "      <td>3</td>\n",
       "      <td>1</td>\n",
       "      <td>0.06</td>\n",
       "    </tr>\n",
       "    <tr>\n",
       "      <th>2</th>\n",
       "      <td>114384</td>\n",
       "      <td>https://www.airbnb.com/rooms/114384</td>\n",
       "      <td>20200527044855</td>\n",
       "      <td>2020-05-28</td>\n",
       "      <td>CBD Luxury 1-bedroom suite with a 30m2 terrace</td>\n",
       "      <td>Located in the core position of Chaoyang CBD. ...</td>\n",
       "      <td>Closed fully-equipped kitchen with top brand f...</td>\n",
       "      <td>Located in the core position of Chaoyang CBD. ...</td>\n",
       "      <td>none</td>\n",
       "      <td>Located in the core position of Chaoyang CBD. ...</td>\n",
       "      <td>...</td>\n",
       "      <td>t</td>\n",
       "      <td>f</td>\n",
       "      <td>moderate</td>\n",
       "      <td>f</td>\n",
       "      <td>f</td>\n",
       "      <td>5</td>\n",
       "      <td>5</td>\n",
       "      <td>0</td>\n",
       "      <td>0</td>\n",
       "      <td>0.73</td>\n",
       "    </tr>\n",
       "    <tr>\n",
       "      <th>3</th>\n",
       "      <td>114465</td>\n",
       "      <td>https://www.airbnb.com/rooms/114465</td>\n",
       "      <td>20200527044855</td>\n",
       "      <td>2020-05-28</td>\n",
       "      <td>CBD Spacious Luxury Suite with 30 sqm terrace</td>\n",
       "      <td>Located in the core position of Chaoyang CBD. ...</td>\n",
       "      <td>Closed fully-equipped kitchen with top brand f...</td>\n",
       "      <td>Located in the core position of Chaoyang CBD. ...</td>\n",
       "      <td>none</td>\n",
       "      <td>Walking distance to dozens of bus lines, Guoma...</td>\n",
       "      <td>...</td>\n",
       "      <td>t</td>\n",
       "      <td>f</td>\n",
       "      <td>moderate</td>\n",
       "      <td>f</td>\n",
       "      <td>f</td>\n",
       "      <td>5</td>\n",
       "      <td>5</td>\n",
       "      <td>0</td>\n",
       "      <td>0</td>\n",
       "      <td>0.11</td>\n",
       "    </tr>\n",
       "    <tr>\n",
       "      <th>4</th>\n",
       "      <td>128496</td>\n",
       "      <td>https://www.airbnb.com/rooms/128496</td>\n",
       "      <td>20200527044855</td>\n",
       "      <td>2020-05-28</td>\n",
       "      <td>Heart of Beijing: House with View 2</td>\n",
       "      <td>real life in a real Hutong. Not the Disneyland...</td>\n",
       "      <td>如果你没有任何其他房东的好评,没有认证ID,没有简单的自我介绍,我会感觉有些别扭,所以,很可...</td>\n",
       "      <td>real life in a real Hutong. Not the Disneyland...</td>\n",
       "      <td>none</td>\n",
       "      <td>NaN</td>\n",
       "      <td>...</td>\n",
       "      <td>f</td>\n",
       "      <td>f</td>\n",
       "      <td>strict_14_with_grace_period</td>\n",
       "      <td>f</td>\n",
       "      <td>f</td>\n",
       "      <td>1</td>\n",
       "      <td>1</td>\n",
       "      <td>0</td>\n",
       "      <td>0</td>\n",
       "      <td>2.65</td>\n",
       "    </tr>\n",
       "  </tbody>\n",
       "</table>\n",
       "<p>5 rows × 106 columns</p>\n",
       "</div>"
      ],
      "text/plain": [
       "       id                          listing_url       scrape_id last_scraped  \\\n",
       "0   44054   https://www.airbnb.com/rooms/44054  20200527044855   2020-05-28   \n",
       "1  100213  https://www.airbnb.com/rooms/100213  20200527044855   2020-05-27   \n",
       "2  114384  https://www.airbnb.com/rooms/114384  20200527044855   2020-05-28   \n",
       "3  114465  https://www.airbnb.com/rooms/114465  20200527044855   2020-05-28   \n",
       "4  128496  https://www.airbnb.com/rooms/128496  20200527044855   2020-05-28   \n",
       "\n",
       "                                             name  \\\n",
       "0            Modern and Comfortable Living in CBD   \n",
       "1     The Great Wall Box Deluxe Suite A团园长城小院东院套房   \n",
       "2  CBD Luxury 1-bedroom suite with a 30m2 terrace   \n",
       "3   CBD Spacious Luxury Suite with 30 sqm terrace   \n",
       "4             Heart of Beijing: House with View 2   \n",
       "\n",
       "                                             summary  \\\n",
       "0  East Apartments offers comfortable living away...   \n",
       "1  This is your guide to live by the Great Wall! ...   \n",
       "2  Located in the core position of Chaoyang CBD. ...   \n",
       "3  Located in the core position of Chaoyang CBD. ...   \n",
       "4  real life in a real Hutong. Not the Disneyland...   \n",
       "\n",
       "                                               space  \\\n",
       "0  East Apartments is a western managed serviced ...   \n",
       "1  This is your guide to live by the Great Wall! ...   \n",
       "2  Closed fully-equipped kitchen with top brand f...   \n",
       "3  Closed fully-equipped kitchen with top brand f...   \n",
       "4  如果你没有任何其他房东的好评,没有认证ID,没有简单的自我介绍,我会感觉有些别扭,所以,很可...   \n",
       "\n",
       "                                         description experiences_offered  \\\n",
       "0  East Apartments offers comfortable living away...                none   \n",
       "1  This is your guide to live by the Great Wall! ...                none   \n",
       "2  Located in the core position of Chaoyang CBD. ...                none   \n",
       "3  Located in the core position of Chaoyang CBD. ...                none   \n",
       "4  real life in a real Hutong. Not the Disneyland...                none   \n",
       "\n",
       "                               neighborhood_overview  ... instant_bookable  \\\n",
       "0  The neighborhood is a private compound.  Just ...  ...                f   \n",
       "1  5 mins walk to Panglongshan Great Wall, 25 min...  ...                t   \n",
       "2  Located in the core position of Chaoyang CBD. ...  ...                t   \n",
       "3  Walking distance to dozens of bus lines, Guoma...  ...                t   \n",
       "4                                                NaN  ...                f   \n",
       "\n",
       "  is_business_travel_ready          cancellation_policy  \\\n",
       "0                        f  strict_14_with_grace_period   \n",
       "1                        f  strict_14_with_grace_period   \n",
       "2                        f                     moderate   \n",
       "3                        f                     moderate   \n",
       "4                        f  strict_14_with_grace_period   \n",
       "\n",
       "  require_guest_profile_picture require_guest_phone_verification  \\\n",
       "0                             f                                f   \n",
       "1                             f                                f   \n",
       "2                             f                                f   \n",
       "3                             f                                f   \n",
       "4                             f                                f   \n",
       "\n",
       "   calculated_host_listings_count  \\\n",
       "0                               5   \n",
       "1                               4   \n",
       "2                               5   \n",
       "3                               5   \n",
       "4                               1   \n",
       "\n",
       "   calculated_host_listings_count_entire_homes  \\\n",
       "0                                            5   \n",
       "1                                            0   \n",
       "2                                            5   \n",
       "3                                            5   \n",
       "4                                            1   \n",
       "\n",
       "  calculated_host_listings_count_private_rooms  \\\n",
       "0                                            0   \n",
       "1                                            3   \n",
       "2                                            0   \n",
       "3                                            0   \n",
       "4                                            0   \n",
       "\n",
       "   calculated_host_listings_count_shared_rooms  reviews_per_month  \n",
       "0                                            0               0.83  \n",
       "1                                            1               0.06  \n",
       "2                                            0               0.73  \n",
       "3                                            0               0.11  \n",
       "4                                            0               2.65  \n",
       "\n",
       "[5 rows x 106 columns]"
      ]
     },
     "execution_count": 11,
     "metadata": {},
     "output_type": "execute_result"
    }
   ],
   "source": [
    "beijing_listings.head()"
   ]
  },
  {
   "cell_type": "markdown",
   "metadata": {},
   "source": [
    "### Filter required columns in listings"
   ]
  },
  {
   "cell_type": "code",
   "execution_count": 12,
   "metadata": {},
   "outputs": [
    {
     "data": {
      "text/plain": [
       "['id',\n",
       " 'host_id',\n",
       " 'neighbourhood_cleansed',\n",
       " 'city',\n",
       " 'latitude',\n",
       " 'longitude',\n",
       " 'number_of_reviews',\n",
       " 'first_review',\n",
       " 'last_review',\n",
       " 'review_scores_rating']"
      ]
     },
     "execution_count": 12,
     "metadata": {},
     "output_type": "execute_result"
    }
   ],
   "source": [
    "columns_extracted = pd.read_csv('airbnb-reviews-listings/columns.txt', names=['col'])\n",
    "columns_extracted = [item for item in columns_extracted['col']]\n",
    "columns_extracted"
   ]
  },
  {
   "cell_type": "code",
   "execution_count": 13,
   "metadata": {},
   "outputs": [],
   "source": [
    "beijing_listings = beijing_listings[columns_extracted]\n",
    "belize_listings = belize_listings[columns_extracted]\n",
    "buenos_aires_listings = buenos_aires_listings[columns_extracted]\n",
    "hong_kong_listings = hong_kong_listings[columns_extracted]\n",
    "mexico_city_listings = mexico_city_listings[columns_extracted]\n",
    "rio_de_janeiro_listings = rio_de_janeiro_listings[columns_extracted]\n",
    "santiago_listings = santiago_listings[columns_extracted]\n",
    "taipei_listings = taipei_listings[columns_extracted]\n",
    "tokyo_listings = tokyo_listings[columns_extracted]"
   ]
  },
  {
   "cell_type": "code",
   "execution_count": 14,
   "metadata": {},
   "outputs": [
    {
     "data": {
      "text/html": [
       "<div>\n",
       "<style scoped>\n",
       "    .dataframe tbody tr th:only-of-type {\n",
       "        vertical-align: middle;\n",
       "    }\n",
       "\n",
       "    .dataframe tbody tr th {\n",
       "        vertical-align: top;\n",
       "    }\n",
       "\n",
       "    .dataframe thead th {\n",
       "        text-align: right;\n",
       "    }\n",
       "</style>\n",
       "<table border=\"1\" class=\"dataframe\">\n",
       "  <thead>\n",
       "    <tr style=\"text-align: right;\">\n",
       "      <th></th>\n",
       "      <th>id</th>\n",
       "      <th>host_id</th>\n",
       "      <th>neighbourhood_cleansed</th>\n",
       "      <th>city</th>\n",
       "      <th>latitude</th>\n",
       "      <th>longitude</th>\n",
       "      <th>number_of_reviews</th>\n",
       "      <th>first_review</th>\n",
       "      <th>last_review</th>\n",
       "      <th>review_scores_rating</th>\n",
       "    </tr>\n",
       "  </thead>\n",
       "  <tbody>\n",
       "    <tr>\n",
       "      <th>0</th>\n",
       "      <td>44054</td>\n",
       "      <td>192875</td>\n",
       "      <td>朝阳区 / Chaoyang</td>\n",
       "      <td>Beijing</td>\n",
       "      <td>39.89425</td>\n",
       "      <td>116.45089</td>\n",
       "      <td>99</td>\n",
       "      <td>2010-08-25</td>\n",
       "      <td>2020-01-06</td>\n",
       "      <td>91.0</td>\n",
       "    </tr>\n",
       "    <tr>\n",
       "      <th>1</th>\n",
       "      <td>100213</td>\n",
       "      <td>527062</td>\n",
       "      <td>密云县 / Miyun</td>\n",
       "      <td>Beijing</td>\n",
       "      <td>40.68434</td>\n",
       "      <td>117.17231</td>\n",
       "      <td>2</td>\n",
       "      <td>2017-08-27</td>\n",
       "      <td>2017-10-08</td>\n",
       "      <td>100.0</td>\n",
       "    </tr>\n",
       "    <tr>\n",
       "      <th>2</th>\n",
       "      <td>114384</td>\n",
       "      <td>533062</td>\n",
       "      <td>朝阳区 / Chaoyang</td>\n",
       "      <td>Beijing</td>\n",
       "      <td>39.90474</td>\n",
       "      <td>116.46372</td>\n",
       "      <td>66</td>\n",
       "      <td>2012-12-31</td>\n",
       "      <td>2020-01-04</td>\n",
       "      <td>93.0</td>\n",
       "    </tr>\n",
       "    <tr>\n",
       "      <th>3</th>\n",
       "      <td>114465</td>\n",
       "      <td>533062</td>\n",
       "      <td>朝阳区 / Chaoyang</td>\n",
       "      <td>Beijing</td>\n",
       "      <td>39.90441</td>\n",
       "      <td>116.46524</td>\n",
       "      <td>10</td>\n",
       "      <td>2012-11-13</td>\n",
       "      <td>2019-10-06</td>\n",
       "      <td>98.0</td>\n",
       "    </tr>\n",
       "    <tr>\n",
       "      <th>4</th>\n",
       "      <td>128496</td>\n",
       "      <td>467520</td>\n",
       "      <td>东城区</td>\n",
       "      <td>Beijing</td>\n",
       "      <td>39.93235</td>\n",
       "      <td>116.42254</td>\n",
       "      <td>290</td>\n",
       "      <td>2011-06-02</td>\n",
       "      <td>2020-01-19</td>\n",
       "      <td>97.0</td>\n",
       "    </tr>\n",
       "  </tbody>\n",
       "</table>\n",
       "</div>"
      ],
      "text/plain": [
       "       id  host_id neighbourhood_cleansed     city  latitude  longitude  \\\n",
       "0   44054   192875         朝阳区 / Chaoyang  Beijing  39.89425  116.45089   \n",
       "1  100213   527062            密云县 / Miyun  Beijing  40.68434  117.17231   \n",
       "2  114384   533062         朝阳区 / Chaoyang  Beijing  39.90474  116.46372   \n",
       "3  114465   533062         朝阳区 / Chaoyang  Beijing  39.90441  116.46524   \n",
       "4  128496   467520                    东城区  Beijing  39.93235  116.42254   \n",
       "\n",
       "   number_of_reviews first_review last_review  review_scores_rating  \n",
       "0                 99   2010-08-25  2020-01-06                  91.0  \n",
       "1                  2   2017-08-27  2017-10-08                 100.0  \n",
       "2                 66   2012-12-31  2020-01-04                  93.0  \n",
       "3                 10   2012-11-13  2019-10-06                  98.0  \n",
       "4                290   2011-06-02  2020-01-19                  97.0  "
      ]
     },
     "execution_count": 14,
     "metadata": {},
     "output_type": "execute_result"
    }
   ],
   "source": [
    "beijing_listings.head()"
   ]
  },
  {
   "cell_type": "markdown",
   "metadata": {},
   "source": [
    "### Unify city names in column 'city'"
   ]
  },
  {
   "cell_type": "code",
   "execution_count": 15,
   "metadata": {},
   "outputs": [],
   "source": [
    "beijing_listings['city'] = 'Beijing'\n",
    "belize_listings['city'] = 'Belize'\n",
    "buenos_aires_listings['city'] = 'Buenos Aires'\n",
    "hong_kong_listings['city'] = 'Hong Kong'\n",
    "mexico_city_listings['city'] = 'Mexico City'\n",
    "rio_de_janeiro_listings['city'] = 'Rio de Janeiro'\n",
    "santiago_listings['city'] = 'Santiago'\n",
    "taipei_listings['city'] = 'Taipei'\n",
    "tokyo_listings['city'] = 'Tokyo'"
   ]
  },
  {
   "cell_type": "markdown",
   "metadata": {},
   "source": [
    "### Concatenate listings from all Non-Western cities to one data frame"
   ]
  },
  {
   "cell_type": "code",
   "execution_count": 16,
   "metadata": {},
   "outputs": [],
   "source": [
    "listings_non_western_df = pd.concat([beijing_listings, belize_listings, buenos_aires_listings, hong_kong_listings, \n",
    "                          mexico_city_listings, rio_de_janeiro_listings, santiago_listings, taipei_listings, \n",
    "                          tokyo_listings]).reset_index().drop('index', axis=1)"
   ]
  },
  {
   "cell_type": "code",
   "execution_count": 17,
   "metadata": {},
   "outputs": [
    {
     "data": {
      "text/html": [
       "<div>\n",
       "<style scoped>\n",
       "    .dataframe tbody tr th:only-of-type {\n",
       "        vertical-align: middle;\n",
       "    }\n",
       "\n",
       "    .dataframe tbody tr th {\n",
       "        vertical-align: top;\n",
       "    }\n",
       "\n",
       "    .dataframe thead th {\n",
       "        text-align: right;\n",
       "    }\n",
       "</style>\n",
       "<table border=\"1\" class=\"dataframe\">\n",
       "  <thead>\n",
       "    <tr style=\"text-align: right;\">\n",
       "      <th></th>\n",
       "      <th>id</th>\n",
       "      <th>host_id</th>\n",
       "      <th>neighbourhood_cleansed</th>\n",
       "      <th>city</th>\n",
       "      <th>latitude</th>\n",
       "      <th>longitude</th>\n",
       "      <th>number_of_reviews</th>\n",
       "      <th>first_review</th>\n",
       "      <th>last_review</th>\n",
       "      <th>review_scores_rating</th>\n",
       "    </tr>\n",
       "  </thead>\n",
       "  <tbody>\n",
       "    <tr>\n",
       "      <th>0</th>\n",
       "      <td>44054</td>\n",
       "      <td>192875</td>\n",
       "      <td>朝阳区 / Chaoyang</td>\n",
       "      <td>Beijing</td>\n",
       "      <td>39.89425</td>\n",
       "      <td>116.45089</td>\n",
       "      <td>99</td>\n",
       "      <td>2010-08-25</td>\n",
       "      <td>2020-01-06</td>\n",
       "      <td>91.0</td>\n",
       "    </tr>\n",
       "    <tr>\n",
       "      <th>1</th>\n",
       "      <td>100213</td>\n",
       "      <td>527062</td>\n",
       "      <td>密云县 / Miyun</td>\n",
       "      <td>Beijing</td>\n",
       "      <td>40.68434</td>\n",
       "      <td>117.17231</td>\n",
       "      <td>2</td>\n",
       "      <td>2017-08-27</td>\n",
       "      <td>2017-10-08</td>\n",
       "      <td>100.0</td>\n",
       "    </tr>\n",
       "    <tr>\n",
       "      <th>2</th>\n",
       "      <td>114384</td>\n",
       "      <td>533062</td>\n",
       "      <td>朝阳区 / Chaoyang</td>\n",
       "      <td>Beijing</td>\n",
       "      <td>39.90474</td>\n",
       "      <td>116.46372</td>\n",
       "      <td>66</td>\n",
       "      <td>2012-12-31</td>\n",
       "      <td>2020-01-04</td>\n",
       "      <td>93.0</td>\n",
       "    </tr>\n",
       "    <tr>\n",
       "      <th>3</th>\n",
       "      <td>114465</td>\n",
       "      <td>533062</td>\n",
       "      <td>朝阳区 / Chaoyang</td>\n",
       "      <td>Beijing</td>\n",
       "      <td>39.90441</td>\n",
       "      <td>116.46524</td>\n",
       "      <td>10</td>\n",
       "      <td>2012-11-13</td>\n",
       "      <td>2019-10-06</td>\n",
       "      <td>98.0</td>\n",
       "    </tr>\n",
       "    <tr>\n",
       "      <th>4</th>\n",
       "      <td>128496</td>\n",
       "      <td>467520</td>\n",
       "      <td>东城区</td>\n",
       "      <td>Beijing</td>\n",
       "      <td>39.93235</td>\n",
       "      <td>116.42254</td>\n",
       "      <td>290</td>\n",
       "      <td>2011-06-02</td>\n",
       "      <td>2020-01-19</td>\n",
       "      <td>97.0</td>\n",
       "    </tr>\n",
       "  </tbody>\n",
       "</table>\n",
       "</div>"
      ],
      "text/plain": [
       "       id  host_id neighbourhood_cleansed     city  latitude  longitude  \\\n",
       "0   44054   192875         朝阳区 / Chaoyang  Beijing  39.89425  116.45089   \n",
       "1  100213   527062            密云县 / Miyun  Beijing  40.68434  117.17231   \n",
       "2  114384   533062         朝阳区 / Chaoyang  Beijing  39.90474  116.46372   \n",
       "3  114465   533062         朝阳区 / Chaoyang  Beijing  39.90441  116.46524   \n",
       "4  128496   467520                    东城区  Beijing  39.93235  116.42254   \n",
       "\n",
       "   number_of_reviews first_review last_review  review_scores_rating  \n",
       "0                 99   2010-08-25  2020-01-06                  91.0  \n",
       "1                  2   2017-08-27  2017-10-08                 100.0  \n",
       "2                 66   2012-12-31  2020-01-04                  93.0  \n",
       "3                 10   2012-11-13  2019-10-06                  98.0  \n",
       "4                290   2011-06-02  2020-01-19                  97.0  "
      ]
     },
     "execution_count": 17,
     "metadata": {},
     "output_type": "execute_result"
    }
   ],
   "source": [
    "listings_non_western_df.head()"
   ]
  },
  {
   "cell_type": "markdown",
   "metadata": {},
   "source": [
    "### Save all listings data frame for adoption analysis"
   ]
  },
  {
   "cell_type": "code",
   "execution_count": 18,
   "metadata": {},
   "outputs": [],
   "source": [
    "listings_non_western_df.to_pickle('listings_non_western_df.pkl')"
   ]
  },
  {
   "cell_type": "markdown",
   "metadata": {},
   "source": [
    "### Rename  'listing_id' and 'id' columns and remove unrequired columns in reviews"
   ]
  },
  {
   "cell_type": "code",
   "execution_count": 18,
   "metadata": {},
   "outputs": [],
   "source": [
    "beijing_reviews = beijing_reviews.rename(columns={'listing_id': 'id', 'id': 'review_id'})\\\n",
    "                                 .drop(['reviewer_name', 'review_id', 'reviewer_id'], axis=1)\n",
    "belize_reviews = belize_reviews.rename(columns={'listing_id': 'id', 'id': 'review_id'})\\\n",
    "                               .drop(['reviewer_name', 'review_id', 'reviewer_id'], axis=1)\n",
    "buenos_aires_reviews = buenos_aires_reviews.rename(columns={'listing_id': 'id', 'id': 'review_id'})\\\n",
    "                                           .drop(['reviewer_name', 'review_id', 'reviewer_id'], axis=1)\n",
    "hong_kong_reviews = hong_kong_reviews.rename(columns={'listing_id': 'id', 'id': 'review_id'})\\\n",
    "                                     .drop(['reviewer_name', 'review_id', 'reviewer_id'], axis=1)\n",
    "mexico_city_reviews = mexico_city_reviews.rename(columns={'listing_id': 'id', 'id': 'review_id'})\\\n",
    "                                         .drop(['reviewer_name', 'review_id', 'reviewer_id'], axis=1)\n",
    "rio_de_janeiro_reviews = rio_de_janeiro_reviews.rename(columns={'listing_id': 'id', 'id': 'review_id'})\\\n",
    "                                               .drop(['reviewer_name', 'review_id', 'reviewer_id'], axis=1)\n",
    "santiago_reviews = santiago_reviews.rename(columns={'listing_id': 'id', 'id': 'review_id'})\\\n",
    "                                   .drop(['reviewer_name', 'review_id', 'reviewer_id'], axis=1)\n",
    "taipei_reviews = taipei_reviews.rename(columns={'listing_id': 'id', 'id': 'review_id'})\\\n",
    "                               .drop(['reviewer_name', 'review_id', 'reviewer_id'], axis=1)\n",
    "tokyo_reviews = tokyo_reviews.rename(columns={'listing_id': 'id', 'id': 'review_id'})\\\n",
    "                             .drop(['reviewer_name', 'review_id', 'reviewer_id'], axis=1)"
   ]
  },
  {
   "cell_type": "code",
   "execution_count": 19,
   "metadata": {},
   "outputs": [
    {
     "data": {
      "text/html": [
       "<div>\n",
       "<style scoped>\n",
       "    .dataframe tbody tr th:only-of-type {\n",
       "        vertical-align: middle;\n",
       "    }\n",
       "\n",
       "    .dataframe tbody tr th {\n",
       "        vertical-align: top;\n",
       "    }\n",
       "\n",
       "    .dataframe thead th {\n",
       "        text-align: right;\n",
       "    }\n",
       "</style>\n",
       "<table border=\"1\" class=\"dataframe\">\n",
       "  <thead>\n",
       "    <tr style=\"text-align: right;\">\n",
       "      <th></th>\n",
       "      <th>id</th>\n",
       "      <th>date</th>\n",
       "      <th>comments</th>\n",
       "    </tr>\n",
       "  </thead>\n",
       "  <tbody>\n",
       "    <tr>\n",
       "      <th>0</th>\n",
       "      <td>44054</td>\n",
       "      <td>2010-08-25</td>\n",
       "      <td>Sev was very helpful.  Sev showed us where to ...</td>\n",
       "    </tr>\n",
       "    <tr>\n",
       "      <th>1</th>\n",
       "      <td>44054</td>\n",
       "      <td>2010-10-13</td>\n",
       "      <td>We arrived in Beijing very early in the mornin...</td>\n",
       "    </tr>\n",
       "    <tr>\n",
       "      <th>2</th>\n",
       "      <td>44054</td>\n",
       "      <td>2011-08-11</td>\n",
       "      <td>It is a really massive apartment and really co...</td>\n",
       "    </tr>\n",
       "    <tr>\n",
       "      <th>3</th>\n",
       "      <td>44054</td>\n",
       "      <td>2012-04-12</td>\n",
       "      <td>Sev was incredibly helpful, showed us around t...</td>\n",
       "    </tr>\n",
       "    <tr>\n",
       "      <th>4</th>\n",
       "      <td>44054</td>\n",
       "      <td>2012-08-30</td>\n",
       "      <td>The appartment was ideal for our party of 6 ad...</td>\n",
       "    </tr>\n",
       "  </tbody>\n",
       "</table>\n",
       "</div>"
      ],
      "text/plain": [
       "      id        date                                           comments\n",
       "0  44054  2010-08-25  Sev was very helpful.  Sev showed us where to ...\n",
       "1  44054  2010-10-13  We arrived in Beijing very early in the mornin...\n",
       "2  44054  2011-08-11  It is a really massive apartment and really co...\n",
       "3  44054  2012-04-12  Sev was incredibly helpful, showed us around t...\n",
       "4  44054  2012-08-30  The appartment was ideal for our party of 6 ad..."
      ]
     },
     "execution_count": 19,
     "metadata": {},
     "output_type": "execute_result"
    }
   ],
   "source": [
    "beijing_reviews.head()"
   ]
  },
  {
   "cell_type": "markdown",
   "metadata": {},
   "source": [
    "### Merge reviews and listings data frames for each city"
   ]
  },
  {
   "cell_type": "code",
   "execution_count": 20,
   "metadata": {},
   "outputs": [],
   "source": [
    "beijing = pd.DataFrame.merge(beijing_reviews, beijing_listings, left_on='id', right_on='id', how='inner')\n",
    "belize = pd.DataFrame.merge(belize_reviews, belize_listings, left_on='id', right_on='id', how='inner')\n",
    "buenos_aires = pd.DataFrame.merge(buenos_aires_reviews, buenos_aires_listings, left_on='id', right_on='id', how='inner')\n",
    "hong_kong = pd.DataFrame.merge(hong_kong_reviews, hong_kong_listings, left_on='id', right_on='id', how='inner')\n",
    "mexico_city = pd.DataFrame.merge(mexico_city_reviews, mexico_city_listings, left_on='id', right_on='id', how='inner')\n",
    "rio_de_janeiro = pd.DataFrame.merge(rio_de_janeiro_reviews, rio_de_janeiro_listings, left_on='id', right_on='id', how='inner')\n",
    "santiago = pd.DataFrame.merge(santiago_reviews, santiago_listings, left_on='id', right_on='id', how='inner')\n",
    "taipei = pd.DataFrame.merge(taipei_reviews, taipei_listings, left_on='id', right_on='id', how='inner')\n",
    "tokyo = pd.DataFrame.merge(tokyo_reviews, tokyo_listings, left_on='id', right_on='id', how='inner')"
   ]
  },
  {
   "cell_type": "code",
   "execution_count": 21,
   "metadata": {},
   "outputs": [
    {
     "data": {
      "text/html": [
       "<div>\n",
       "<style scoped>\n",
       "    .dataframe tbody tr th:only-of-type {\n",
       "        vertical-align: middle;\n",
       "    }\n",
       "\n",
       "    .dataframe tbody tr th {\n",
       "        vertical-align: top;\n",
       "    }\n",
       "\n",
       "    .dataframe thead th {\n",
       "        text-align: right;\n",
       "    }\n",
       "</style>\n",
       "<table border=\"1\" class=\"dataframe\">\n",
       "  <thead>\n",
       "    <tr style=\"text-align: right;\">\n",
       "      <th></th>\n",
       "      <th>id</th>\n",
       "      <th>date</th>\n",
       "      <th>comments</th>\n",
       "      <th>host_id</th>\n",
       "      <th>neighbourhood_cleansed</th>\n",
       "      <th>city</th>\n",
       "      <th>latitude</th>\n",
       "      <th>longitude</th>\n",
       "      <th>number_of_reviews</th>\n",
       "      <th>first_review</th>\n",
       "      <th>last_review</th>\n",
       "      <th>review_scores_rating</th>\n",
       "    </tr>\n",
       "  </thead>\n",
       "  <tbody>\n",
       "    <tr>\n",
       "      <th>0</th>\n",
       "      <td>44054</td>\n",
       "      <td>2010-08-25</td>\n",
       "      <td>Sev was very helpful.  Sev showed us where to ...</td>\n",
       "      <td>192875</td>\n",
       "      <td>朝阳区 / Chaoyang</td>\n",
       "      <td>Beijing</td>\n",
       "      <td>39.89425</td>\n",
       "      <td>116.45089</td>\n",
       "      <td>99</td>\n",
       "      <td>2010-08-25</td>\n",
       "      <td>2020-01-06</td>\n",
       "      <td>91.0</td>\n",
       "    </tr>\n",
       "    <tr>\n",
       "      <th>1</th>\n",
       "      <td>44054</td>\n",
       "      <td>2010-10-13</td>\n",
       "      <td>We arrived in Beijing very early in the mornin...</td>\n",
       "      <td>192875</td>\n",
       "      <td>朝阳区 / Chaoyang</td>\n",
       "      <td>Beijing</td>\n",
       "      <td>39.89425</td>\n",
       "      <td>116.45089</td>\n",
       "      <td>99</td>\n",
       "      <td>2010-08-25</td>\n",
       "      <td>2020-01-06</td>\n",
       "      <td>91.0</td>\n",
       "    </tr>\n",
       "    <tr>\n",
       "      <th>2</th>\n",
       "      <td>44054</td>\n",
       "      <td>2011-08-11</td>\n",
       "      <td>It is a really massive apartment and really co...</td>\n",
       "      <td>192875</td>\n",
       "      <td>朝阳区 / Chaoyang</td>\n",
       "      <td>Beijing</td>\n",
       "      <td>39.89425</td>\n",
       "      <td>116.45089</td>\n",
       "      <td>99</td>\n",
       "      <td>2010-08-25</td>\n",
       "      <td>2020-01-06</td>\n",
       "      <td>91.0</td>\n",
       "    </tr>\n",
       "    <tr>\n",
       "      <th>3</th>\n",
       "      <td>44054</td>\n",
       "      <td>2012-04-12</td>\n",
       "      <td>Sev was incredibly helpful, showed us around t...</td>\n",
       "      <td>192875</td>\n",
       "      <td>朝阳区 / Chaoyang</td>\n",
       "      <td>Beijing</td>\n",
       "      <td>39.89425</td>\n",
       "      <td>116.45089</td>\n",
       "      <td>99</td>\n",
       "      <td>2010-08-25</td>\n",
       "      <td>2020-01-06</td>\n",
       "      <td>91.0</td>\n",
       "    </tr>\n",
       "    <tr>\n",
       "      <th>4</th>\n",
       "      <td>44054</td>\n",
       "      <td>2012-08-30</td>\n",
       "      <td>The appartment was ideal for our party of 6 ad...</td>\n",
       "      <td>192875</td>\n",
       "      <td>朝阳区 / Chaoyang</td>\n",
       "      <td>Beijing</td>\n",
       "      <td>39.89425</td>\n",
       "      <td>116.45089</td>\n",
       "      <td>99</td>\n",
       "      <td>2010-08-25</td>\n",
       "      <td>2020-01-06</td>\n",
       "      <td>91.0</td>\n",
       "    </tr>\n",
       "  </tbody>\n",
       "</table>\n",
       "</div>"
      ],
      "text/plain": [
       "      id        date                                           comments  \\\n",
       "0  44054  2010-08-25  Sev was very helpful.  Sev showed us where to ...   \n",
       "1  44054  2010-10-13  We arrived in Beijing very early in the mornin...   \n",
       "2  44054  2011-08-11  It is a really massive apartment and really co...   \n",
       "3  44054  2012-04-12  Sev was incredibly helpful, showed us around t...   \n",
       "4  44054  2012-08-30  The appartment was ideal for our party of 6 ad...   \n",
       "\n",
       "   host_id neighbourhood_cleansed     city  latitude  longitude  \\\n",
       "0   192875         朝阳区 / Chaoyang  Beijing  39.89425  116.45089   \n",
       "1   192875         朝阳区 / Chaoyang  Beijing  39.89425  116.45089   \n",
       "2   192875         朝阳区 / Chaoyang  Beijing  39.89425  116.45089   \n",
       "3   192875         朝阳区 / Chaoyang  Beijing  39.89425  116.45089   \n",
       "4   192875         朝阳区 / Chaoyang  Beijing  39.89425  116.45089   \n",
       "\n",
       "   number_of_reviews first_review last_review  review_scores_rating  \n",
       "0                 99   2010-08-25  2020-01-06                  91.0  \n",
       "1                 99   2010-08-25  2020-01-06                  91.0  \n",
       "2                 99   2010-08-25  2020-01-06                  91.0  \n",
       "3                 99   2010-08-25  2020-01-06                  91.0  \n",
       "4                 99   2010-08-25  2020-01-06                  91.0  "
      ]
     },
     "execution_count": 21,
     "metadata": {},
     "output_type": "execute_result"
    }
   ],
   "source": [
    "beijing.head()"
   ]
  },
  {
   "cell_type": "markdown",
   "metadata": {},
   "source": [
    "### Concatenate all Non-Western cities to one data frame"
   ]
  },
  {
   "cell_type": "code",
   "execution_count": 22,
   "metadata": {},
   "outputs": [],
   "source": [
    "frames = [beijing, belize, buenos_aires, hong_kong, mexico_city, rio_de_janeiro, santiago, taipei, tokyo]\n",
    "non_western_df = pd.concat(frames, ignore_index=True)"
   ]
  },
  {
   "cell_type": "code",
   "execution_count": 23,
   "metadata": {},
   "outputs": [
    {
     "data": {
      "text/html": [
       "<div>\n",
       "<style scoped>\n",
       "    .dataframe tbody tr th:only-of-type {\n",
       "        vertical-align: middle;\n",
       "    }\n",
       "\n",
       "    .dataframe tbody tr th {\n",
       "        vertical-align: top;\n",
       "    }\n",
       "\n",
       "    .dataframe thead th {\n",
       "        text-align: right;\n",
       "    }\n",
       "</style>\n",
       "<table border=\"1\" class=\"dataframe\">\n",
       "  <thead>\n",
       "    <tr style=\"text-align: right;\">\n",
       "      <th></th>\n",
       "      <th>id</th>\n",
       "      <th>date</th>\n",
       "      <th>comments</th>\n",
       "      <th>host_id</th>\n",
       "      <th>neighbourhood_cleansed</th>\n",
       "      <th>city</th>\n",
       "      <th>latitude</th>\n",
       "      <th>longitude</th>\n",
       "      <th>number_of_reviews</th>\n",
       "      <th>first_review</th>\n",
       "      <th>last_review</th>\n",
       "      <th>review_scores_rating</th>\n",
       "    </tr>\n",
       "  </thead>\n",
       "  <tbody>\n",
       "    <tr>\n",
       "      <th>0</th>\n",
       "      <td>44054</td>\n",
       "      <td>2010-08-25</td>\n",
       "      <td>Sev was very helpful.  Sev showed us where to ...</td>\n",
       "      <td>192875</td>\n",
       "      <td>朝阳区 / Chaoyang</td>\n",
       "      <td>Beijing</td>\n",
       "      <td>39.89425</td>\n",
       "      <td>116.45089</td>\n",
       "      <td>99</td>\n",
       "      <td>2010-08-25</td>\n",
       "      <td>2020-01-06</td>\n",
       "      <td>91.0</td>\n",
       "    </tr>\n",
       "    <tr>\n",
       "      <th>1</th>\n",
       "      <td>44054</td>\n",
       "      <td>2010-10-13</td>\n",
       "      <td>We arrived in Beijing very early in the mornin...</td>\n",
       "      <td>192875</td>\n",
       "      <td>朝阳区 / Chaoyang</td>\n",
       "      <td>Beijing</td>\n",
       "      <td>39.89425</td>\n",
       "      <td>116.45089</td>\n",
       "      <td>99</td>\n",
       "      <td>2010-08-25</td>\n",
       "      <td>2020-01-06</td>\n",
       "      <td>91.0</td>\n",
       "    </tr>\n",
       "    <tr>\n",
       "      <th>2</th>\n",
       "      <td>44054</td>\n",
       "      <td>2011-08-11</td>\n",
       "      <td>It is a really massive apartment and really co...</td>\n",
       "      <td>192875</td>\n",
       "      <td>朝阳区 / Chaoyang</td>\n",
       "      <td>Beijing</td>\n",
       "      <td>39.89425</td>\n",
       "      <td>116.45089</td>\n",
       "      <td>99</td>\n",
       "      <td>2010-08-25</td>\n",
       "      <td>2020-01-06</td>\n",
       "      <td>91.0</td>\n",
       "    </tr>\n",
       "    <tr>\n",
       "      <th>3</th>\n",
       "      <td>44054</td>\n",
       "      <td>2012-04-12</td>\n",
       "      <td>Sev was incredibly helpful, showed us around t...</td>\n",
       "      <td>192875</td>\n",
       "      <td>朝阳区 / Chaoyang</td>\n",
       "      <td>Beijing</td>\n",
       "      <td>39.89425</td>\n",
       "      <td>116.45089</td>\n",
       "      <td>99</td>\n",
       "      <td>2010-08-25</td>\n",
       "      <td>2020-01-06</td>\n",
       "      <td>91.0</td>\n",
       "    </tr>\n",
       "    <tr>\n",
       "      <th>4</th>\n",
       "      <td>44054</td>\n",
       "      <td>2012-08-30</td>\n",
       "      <td>The appartment was ideal for our party of 6 ad...</td>\n",
       "      <td>192875</td>\n",
       "      <td>朝阳区 / Chaoyang</td>\n",
       "      <td>Beijing</td>\n",
       "      <td>39.89425</td>\n",
       "      <td>116.45089</td>\n",
       "      <td>99</td>\n",
       "      <td>2010-08-25</td>\n",
       "      <td>2020-01-06</td>\n",
       "      <td>91.0</td>\n",
       "    </tr>\n",
       "  </tbody>\n",
       "</table>\n",
       "</div>"
      ],
      "text/plain": [
       "      id        date                                           comments  \\\n",
       "0  44054  2010-08-25  Sev was very helpful.  Sev showed us where to ...   \n",
       "1  44054  2010-10-13  We arrived in Beijing very early in the mornin...   \n",
       "2  44054  2011-08-11  It is a really massive apartment and really co...   \n",
       "3  44054  2012-04-12  Sev was incredibly helpful, showed us around t...   \n",
       "4  44054  2012-08-30  The appartment was ideal for our party of 6 ad...   \n",
       "\n",
       "   host_id neighbourhood_cleansed     city  latitude  longitude  \\\n",
       "0   192875         朝阳区 / Chaoyang  Beijing  39.89425  116.45089   \n",
       "1   192875         朝阳区 / Chaoyang  Beijing  39.89425  116.45089   \n",
       "2   192875         朝阳区 / Chaoyang  Beijing  39.89425  116.45089   \n",
       "3   192875         朝阳区 / Chaoyang  Beijing  39.89425  116.45089   \n",
       "4   192875         朝阳区 / Chaoyang  Beijing  39.89425  116.45089   \n",
       "\n",
       "   number_of_reviews first_review last_review  review_scores_rating  \n",
       "0                 99   2010-08-25  2020-01-06                  91.0  \n",
       "1                 99   2010-08-25  2020-01-06                  91.0  \n",
       "2                 99   2010-08-25  2020-01-06                  91.0  \n",
       "3                 99   2010-08-25  2020-01-06                  91.0  \n",
       "4                 99   2010-08-25  2020-01-06                  91.0  "
      ]
     },
     "execution_count": 23,
     "metadata": {},
     "output_type": "execute_result"
    }
   ],
   "source": [
    "non_western_df.head()"
   ]
  },
  {
   "cell_type": "markdown",
   "metadata": {},
   "source": [
    "### Check missing observations"
   ]
  },
  {
   "cell_type": "code",
   "execution_count": 24,
   "metadata": {},
   "outputs": [
    {
     "data": {
      "text/plain": [
       "id                           0\n",
       "date                         0\n",
       "comments                  1995\n",
       "host_id                      0\n",
       "neighbourhood_cleansed       0\n",
       "city                         0\n",
       "latitude                     0\n",
       "longitude                    0\n",
       "number_of_reviews            0\n",
       "first_review                 0\n",
       "last_review                  0\n",
       "review_scores_rating      3176\n",
       "dtype: int64"
      ]
     },
     "execution_count": 24,
     "metadata": {},
     "output_type": "execute_result"
    }
   ],
   "source": [
    "non_western_df.isna().sum()"
   ]
  },
  {
   "cell_type": "markdown",
   "metadata": {},
   "source": [
    "### Check number of listings which have at least one review"
   ]
  },
  {
   "cell_type": "code",
   "execution_count": 25,
   "metadata": {},
   "outputs": [
    {
     "name": "stdout",
     "output_type": "stream",
     "text": [
      "Total number of listings in Non-Western cities: 172081\n",
      "Number of listings which have at least one review: 113778 (66%)\n",
      "Number of listings which do not have any review: 58303 (34%)\n"
     ]
    }
   ],
   "source": [
    "print('Total number of listings in Non-Western cities: {}'.format(total_number_listings_non_western))\n",
    "print('Number of listings which have at least one review: {} ({:.0%})'.format(non_western_df.id.nunique(), \n",
    "                                                    non_western_df.id.nunique()/total_number_listings_non_western))\n",
    "print('Number of listings which do not have any review: {} ({:.0%})'.format(\n",
    "                                                    total_number_listings_non_western - non_western_df.id.nunique(),\n",
    "                                                    (total_number_listings_non_western - non_western_df.id.nunique())\n",
    "                                                    /total_number_listings_non_western))"
   ]
  },
  {
   "cell_type": "markdown",
   "metadata": {},
   "source": [
    "### Remove missing observations in columns 'comments' and 'review_scores_rating'"
   ]
  },
  {
   "cell_type": "code",
   "execution_count": 27,
   "metadata": {},
   "outputs": [],
   "source": [
    "non_western_df = non_western_df.dropna(subset=['comments', 'review_scores_rating'])"
   ]
  },
  {
   "cell_type": "code",
   "execution_count": 28,
   "metadata": {},
   "outputs": [
    {
     "data": {
      "text/plain": [
       "id                        0\n",
       "date                      0\n",
       "comments                  0\n",
       "host_id                   0\n",
       "neighbourhood_cleansed    0\n",
       "city                      0\n",
       "latitude                  0\n",
       "longitude                 0\n",
       "number_of_reviews         0\n",
       "first_review              0\n",
       "last_review               0\n",
       "review_scores_rating      0\n",
       "dtype: int64"
      ]
     },
     "execution_count": 28,
     "metadata": {},
     "output_type": "execute_result"
    }
   ],
   "source": [
    "non_western_df.isna().sum()"
   ]
  },
  {
   "cell_type": "code",
   "execution_count": 29,
   "metadata": {},
   "outputs": [
    {
     "name": "stdout",
     "output_type": "stream",
     "text": [
      "Total number of reviews in Non-Western cities: 2661487\n",
      "Total number of reviews after removing missing comments and review rating score: 2656316\n",
      "Percentage of missing observations removed is: 0.2%\n"
     ]
    }
   ],
   "source": [
    "total_number_reviews_non_western_without_nan = non_western_df.shape[0]\n",
    "print('Total number of reviews in Non-Western cities: {}'.format(total_number_reviews_non_western))\n",
    "print('Total number of reviews after removing missing comments and review rating score: {}'.format(\n",
    "                                                            total_number_reviews_non_western_without_nan))\n",
    "print('Percentage of missing observations removed is: {:.1%}'.format(1 - (total_number_reviews_non_western_without_nan\n",
    "                                                            /total_number_reviews_non_western)))"
   ]
  },
  {
   "cell_type": "markdown",
   "metadata": {},
   "source": [
    "### Remove automated reviews"
   ]
  },
  {
   "cell_type": "code",
   "execution_count": 30,
   "metadata": {},
   "outputs": [],
   "source": [
    "non_western_df = non_western_df[~non_western_df.comments.str.contains('This is an automated posting')].reset_index(drop=True)"
   ]
  },
  {
   "cell_type": "code",
   "execution_count": 31,
   "metadata": {},
   "outputs": [
    {
     "name": "stdout",
     "output_type": "stream",
     "text": [
      "Total number of reviews after removing automated reviews: 2635117\n",
      "Percentage of observations removed is: 0.8%\n"
     ]
    }
   ],
   "source": [
    "total_number_reviews_non_western_without_automated = non_western_df.shape[0]\n",
    "print('Total number of reviews after removing automated reviews: {}'.format(\n",
    "                                                    total_number_reviews_non_western_without_automated))\n",
    "print('Percentage of observations removed is: {:.1%}'.format(1 - (total_number_reviews_non_western_without_automated\n",
    "                                                    /total_number_reviews_non_western_without_nan)))"
   ]
  },
  {
   "cell_type": "markdown",
   "metadata": {},
   "source": [
    "## The same as above initial preprocessing steps for Western cities"
   ]
  },
  {
   "cell_type": "markdown",
   "metadata": {},
   "source": [
    "Cotrol study: London, Melbourne, New York, Vancouver"
   ]
  },
  {
   "cell_type": "code",
   "execution_count": 32,
   "metadata": {},
   "outputs": [],
   "source": [
    "london_reviews = pd.read_csv('airbnb-reviews-listings/london.csv')\n",
    "melbourne_reviews = pd.read_csv('airbnb-reviews-listings/melbourne.csv')\n",
    "new_york_reviews = pd.read_csv('airbnb-reviews-listings/new_york.csv')\n",
    "vancouver_reviews = pd.read_csv('airbnb-reviews-listings/vancouver.csv')"
   ]
  },
  {
   "cell_type": "code",
   "execution_count": 33,
   "metadata": {},
   "outputs": [
    {
     "name": "stdout",
     "output_type": "stream",
     "text": [
      "Total number of reviews in Western cities: 3472764\n"
     ]
    }
   ],
   "source": [
    "total_number_reviews_western = london_reviews.shape[0] + melbourne_reviews.shape[0] +\\\n",
    "                                new_york_reviews.shape[0] + vancouver_reviews.shape[0]\n",
    "\n",
    "print('Total number of reviews in Western cities: {}'.format(total_number_reviews_western))"
   ]
  },
  {
   "cell_type": "code",
   "execution_count": 34,
   "metadata": {},
   "outputs": [
    {
     "name": "stdout",
     "output_type": "stream",
     "text": [
      "Total number of reviews per city:\n",
      "-------------------\n",
      "London : 1472733 reviews and 6 features.\n",
      "Melbourne : 614589 reviews and 6 features.\n",
      "New York : 1182158 reviews and 6 features.\n",
      "Vancouver : 203284 reviews and 6 features.\n"
     ]
    }
   ],
   "source": [
    "print('Total number of reviews per city:')\n",
    "print('-------------------')\n",
    "print('London : {} reviews and {} features.'.format(*london_reviews.shape))\n",
    "print('Melbourne : {} reviews and {} features.'.format(*melbourne_reviews.shape))\n",
    "print('New York : {} reviews and {} features.'.format(*new_york_reviews.shape))\n",
    "print('Vancouver : {} reviews and {} features.'.format(*vancouver_reviews.shape))"
   ]
  },
  {
   "cell_type": "code",
   "execution_count": 35,
   "metadata": {},
   "outputs": [
    {
     "name": "stdout",
     "output_type": "stream",
     "text": [
      "London contains 0 duplicates.\n",
      "Melbourne contains 0 duplicates.\n",
      "New York contains 0 duplicates.\n",
      "Vancouver contains 0 duplicates.\n"
     ]
    }
   ],
   "source": [
    "print('London contains {} duplicates.'.format(london_reviews.duplicated().sum()))\n",
    "print('Melbourne contains {} duplicates.'.format(melbourne_reviews.duplicated().sum()))\n",
    "print('New York contains {} duplicates.'.format(new_york_reviews.duplicated().sum()))\n",
    "print('Vancouver contains {} duplicates.'.format(vancouver_reviews.duplicated().sum()))"
   ]
  },
  {
   "cell_type": "code",
   "execution_count": 36,
   "metadata": {},
   "outputs": [],
   "source": [
    "london_listings = pd.read_csv('airbnb-reviews-listings/london_listings.csv')\n",
    "melbourne_listings = pd.read_csv('airbnb-reviews-listings/melbourne_listings.csv')\n",
    "new_york_listings = pd.read_csv('airbnb-reviews-listings/new_york_listings.csv')\n",
    "vancouver_listings = pd.read_csv('airbnb-reviews-listings/vancouver_listings.csv')"
   ]
  },
  {
   "cell_type": "code",
   "execution_count": 37,
   "metadata": {},
   "outputs": [
    {
     "name": "stdout",
     "output_type": "stream",
     "text": [
      "Total number of listings in Western cities: 164405\n"
     ]
    }
   ],
   "source": [
    "total_number_listings_western = london_listings.shape[0] + melbourne_listings.shape[0] +\\\n",
    "                               new_york_listings.shape[0] + vancouver_listings.shape[0]\n",
    "\n",
    "print('Total number of listings in Western cities: {}'.format(total_number_listings_western))"
   ]
  },
  {
   "cell_type": "code",
   "execution_count": 38,
   "metadata": {},
   "outputs": [
    {
     "name": "stdout",
     "output_type": "stream",
     "text": [
      "Total number of listings per city:\n",
      "-------------------\n",
      "London : 85207 listings and 106 features.\n",
      "Melbourne : 23862 listings and 106 features.\n",
      "New York : 49530 listings and 106 features.\n",
      "Vancouver : 5806 listings and 106 features.\n"
     ]
    }
   ],
   "source": [
    "print('Total number of listings per city:')\n",
    "print('-------------------')\n",
    "print('London : {} listings and {} features.'.format(*london_listings.shape))\n",
    "print('Melbourne : {} listings and {} features.'.format(*melbourne_listings.shape))\n",
    "print('New York : {} listings and {} features.'.format(*new_york_listings.shape))\n",
    "print('Vancouver : {} listings and {} features.'.format(*vancouver_listings.shape))"
   ]
  },
  {
   "cell_type": "code",
   "execution_count": 39,
   "metadata": {},
   "outputs": [
    {
     "name": "stdout",
     "output_type": "stream",
     "text": [
      "London contains 0 duplicates.\n",
      "Melbourne contains 0 duplicates.\n",
      "New York contains 0 duplicates.\n",
      "Vancouver contains 0 duplicates.\n"
     ]
    }
   ],
   "source": [
    "print('London contains {} duplicates.'.format(london_listings.duplicated().sum()))\n",
    "print('Melbourne contains {} duplicates.'.format(melbourne_listings.duplicated().sum()))\n",
    "print('New York contains {} duplicates.'.format(new_york_listings.duplicated().sum()))\n",
    "print('Vancouver contains {} duplicates.'.format(vancouver_listings.duplicated().sum()))"
   ]
  },
  {
   "cell_type": "code",
   "execution_count": 40,
   "metadata": {},
   "outputs": [],
   "source": [
    "london_listings = london_listings[columns_extracted]\n",
    "melbourne_listings = melbourne_listings[columns_extracted]\n",
    "new_york_listings = new_york_listings[columns_extracted]\n",
    "vancouver_listings = vancouver_listings[columns_extracted]"
   ]
  },
  {
   "cell_type": "code",
   "execution_count": 41,
   "metadata": {},
   "outputs": [],
   "source": [
    "london_listings['city'] = 'London'\n",
    "melbourne_listings['city'] = 'Melbourne'\n",
    "new_york_listings['city'] = 'New York'\n",
    "vancouver_listings['city'] = 'Vancouver'"
   ]
  },
  {
   "cell_type": "code",
   "execution_count": 42,
   "metadata": {},
   "outputs": [],
   "source": [
    "listings_western_df = pd.concat([london_listings, new_york_listings, melbourne_listings, vancouver_listings])\\\n",
    "                      .reset_index().drop('index', axis=1)"
   ]
  },
  {
   "cell_type": "code",
   "execution_count": 43,
   "metadata": {},
   "outputs": [],
   "source": [
    "listings_western_df.to_pickle('listings_western_df.pkl')"
   ]
  },
  {
   "cell_type": "code",
   "execution_count": 44,
   "metadata": {},
   "outputs": [],
   "source": [
    "london_reviews = london_reviews.rename(columns={'listing_id': 'id', 'id': 'review_id'})\\\n",
    "                               .drop(['reviewer_name', 'review_id', 'reviewer_id'], axis=1)\n",
    "melbourne_reviews = melbourne_reviews.rename(columns={'listing_id': 'id', 'id': 'review_id'})\\\n",
    "                               .drop(['reviewer_name', 'review_id', 'reviewer_id'], axis=1)\n",
    "new_york_reviews = new_york_reviews.rename(columns={'listing_id': 'id', 'id': 'review_id'})\\\n",
    "                               .drop(['reviewer_name', 'review_id', 'reviewer_id'], axis=1)\n",
    "vancouver_reviews = vancouver_reviews.rename(columns={'listing_id': 'id', 'id': 'review_id'})\\\n",
    "                               .drop(['reviewer_name', 'review_id', 'reviewer_id'], axis=1)"
   ]
  },
  {
   "cell_type": "code",
   "execution_count": 45,
   "metadata": {},
   "outputs": [],
   "source": [
    "london = pd.DataFrame.merge(london_reviews, london_listings, left_on='id', right_on='id', how='inner')\n",
    "melbourne = pd.DataFrame.merge(melbourne_reviews, melbourne_listings, left_on='id', right_on='id', how='inner')\n",
    "new_york = pd.DataFrame.merge(new_york_reviews, new_york_listings, left_on='id', right_on='id', how='inner')\n",
    "vancouver = pd.DataFrame.merge(vancouver_reviews, vancouver_listings, left_on='id', right_on='id', how='inner')"
   ]
  },
  {
   "cell_type": "code",
   "execution_count": 46,
   "metadata": {},
   "outputs": [],
   "source": [
    "frames_western = [london, melbourne, new_york, vancouver]\n",
    "western_df = pd.concat(frames_western, ignore_index=True)"
   ]
  },
  {
   "cell_type": "code",
   "execution_count": 47,
   "metadata": {},
   "outputs": [
    {
     "data": {
      "text/plain": [
       "id                           0\n",
       "date                         0\n",
       "comments                  1908\n",
       "host_id                      0\n",
       "neighbourhood_cleansed       0\n",
       "city                         0\n",
       "latitude                     0\n",
       "longitude                    0\n",
       "number_of_reviews            0\n",
       "first_review                 0\n",
       "last_review                  0\n",
       "review_scores_rating      3779\n",
       "dtype: int64"
      ]
     },
     "execution_count": 47,
     "metadata": {},
     "output_type": "execute_result"
    }
   ],
   "source": [
    "western_df.isna().sum()"
   ]
  },
  {
   "cell_type": "code",
   "execution_count": 48,
   "metadata": {},
   "outputs": [
    {
     "name": "stdout",
     "output_type": "stream",
     "text": [
      "Total number of listings in Non-Western cities: 164405\n",
      "Number of listings which have at least one review: 125700 (76%)\n",
      "Number of listings which do not have any reviews: 38705 (24%)\n"
     ]
    }
   ],
   "source": [
    "print('Total number of listings in Non-Western cities: {}'.format(total_number_listings_western))\n",
    "print('Number of listings which have at least one review: {} ({:.0%})'.format(western_df.id.nunique(), \n",
    "                                                            western_df.id.nunique()/total_number_listings_western))\n",
    "print('Number of listings which do not have any reviews: {} ({:.0%})'.format(\n",
    "                                                            total_number_listings_western - western_df.id.nunique(),\n",
    "                                                            (total_number_listings_western - western_df.id.nunique())\n",
    "                                                            /total_number_listings_western))"
   ]
  },
  {
   "cell_type": "code",
   "execution_count": 49,
   "metadata": {},
   "outputs": [],
   "source": [
    "western_df = western_df.dropna(subset=['comments', 'review_scores_rating'])"
   ]
  },
  {
   "cell_type": "code",
   "execution_count": 51,
   "metadata": {},
   "outputs": [
    {
     "name": "stdout",
     "output_type": "stream",
     "text": [
      "Total number of reviews in Western cities: 3472764\n",
      "Total number of reviews after removing missing comments and review rating score: 3467077\n",
      "Percentage of missing observations removed is: 0.2%\n"
     ]
    }
   ],
   "source": [
    "total_number_reviews_western_without_nan = western_df.shape[0]\n",
    "print('Total number of reviews in Western cities: {}'.format(total_number_reviews_western))\n",
    "print('Total number of reviews after removing missing comments and review rating score: {}'.format(\n",
    "                                                                        total_number_reviews_western_without_nan))\n",
    "print('Percentage of missing observations removed is: {:.1%}'.format(1 - (total_number_reviews_western_without_nan\n",
    "                                                                        /total_number_reviews_western)))"
   ]
  },
  {
   "cell_type": "code",
   "execution_count": 52,
   "metadata": {},
   "outputs": [],
   "source": [
    "western_df = western_df[~western_df.comments.str.contains('This is an automated posting')].reset_index(drop=True)"
   ]
  },
  {
   "cell_type": "code",
   "execution_count": 53,
   "metadata": {},
   "outputs": [
    {
     "name": "stdout",
     "output_type": "stream",
     "text": [
      "Total number of reviews after removing automated reviews: 3423217\n",
      "Percentage of observations removed is: 1.3%\n"
     ]
    }
   ],
   "source": [
    "total_number_reviews_western_without_automated = western_df.shape[0]\n",
    "print('Total number of reviews after removing automated reviews: {}'.format(\n",
    "                                                                    total_number_reviews_western_without_automated))\n",
    "print('Percentage of observations removed is: {:.1%}'.format(1 - (total_number_reviews_western_without_automated\n",
    "                                                                    /total_number_reviews_western_without_nan)))"
   ]
  },
  {
   "cell_type": "markdown",
   "metadata": {},
   "source": [
    "## Save files to pickle"
   ]
  },
  {
   "cell_type": "code",
   "execution_count": 54,
   "metadata": {},
   "outputs": [],
   "source": [
    "western_df.to_pickle('western_df.pkl')"
   ]
  },
  {
   "cell_type": "code",
   "execution_count": 55,
   "metadata": {},
   "outputs": [],
   "source": [
    "non_western_df.to_pickle('non_western_df.pkl')"
   ]
  }
 ],
 "metadata": {
  "kernelspec": {
   "display_name": "Python 3",
   "language": "python",
   "name": "python3"
  },
  "language_info": {
   "codemirror_mode": {
    "name": "ipython",
    "version": 3
   },
   "file_extension": ".py",
   "mimetype": "text/x-python",
   "name": "python",
   "nbconvert_exporter": "python",
   "pygments_lexer": "ipython3",
   "version": "3.8.6"
  },
  "toc": {
   "base_numbering": 1,
   "nav_menu": {},
   "number_sections": true,
   "sideBar": true,
   "skip_h1_title": true,
   "title_cell": "Table of Contents",
   "title_sidebar": "Contents",
   "toc_cell": true,
   "toc_position": {
    "height": "calc(100% - 180px)",
    "left": "10px",
    "top": "150px",
    "width": "165px"
   },
   "toc_section_display": true,
   "toc_window_display": true
  }
 },
 "nbformat": 4,
 "nbformat_minor": 2
}
